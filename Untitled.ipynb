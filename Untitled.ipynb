{
 "cells": [
  {
   "cell_type": "markdown",
   "metadata": {},
   "source": [
    "Σ  符号用于使用求和进行聚合，但是我们可以选择通过其他方式进行聚合。求和是最常见的聚合方式之一。但是，我们可能需要以其他方式进行聚合。如果我们想将所有的值相乘，我们可以使用求积符号  Π ，希腊字母  𝜋 的大写。我们聚合连续值的方式称为积分（微积分中的一种常用技术），它使用以下符号  ∫ ，就像一个拉长的 s。我们不会在此课的练习中使用积分或乘积，但你将来会见到！"
   ]
  },
  {
   "cell_type": "markdown",
   "metadata": {},
   "source": [
    "计算均值的最后步骤 \n",
    "\n",
    "在均值计算的最后一步，我们引入 **n** 作为我们数据集中值的总数。我们可以将它放在求和符号的顶部，也可以在计算均值时作为分母。 \n",
    "$$\n",
    "\\frac{1}{n} \\sum_{i=1}^{n} x_{i}\n",
    "$$\n",
    "我们不写出上面的全部东西，而是通常用 $\\bar{x}$ 来表示数据集的均值。不过，与第一个视频中类似，我们可以使用任何变量。因此，我们也可以写 $\\bar{y}$，或任何其他字母。 \n",
    "\n",
    "我们也使用任何其他字母作为索引，而不只是 $i$。我们也可以同样方便地使用$j$、$k$ 或$m$ 作为每个数据值的索引。下一个概念的练习将帮助强化此做法。"
   ]
  },
  {
   "cell_type": "markdown",
   "metadata": {},
   "source": []
  }
 ],
 "metadata": {
  "kernelspec": {
   "display_name": "Python 3",
   "language": "python",
   "name": "python3"
  },
  "language_info": {
   "codemirror_mode": {
    "name": "ipython",
    "version": 3
   },
   "file_extension": ".py",
   "mimetype": "text/x-python",
   "name": "python",
   "nbconvert_exporter": "python",
   "pygments_lexer": "ipython3",
   "version": "3.7.3"
  },
  "toc": {
   "base_numbering": 1,
   "nav_menu": {},
   "number_sections": true,
   "sideBar": true,
   "skip_h1_title": false,
   "title_cell": "Table of Contents",
   "title_sidebar": "Contents",
   "toc_cell": false,
   "toc_position": {},
   "toc_section_display": true,
   "toc_window_display": false
  },
  "varInspector": {
   "cols": {
    "lenName": 16,
    "lenType": 16,
    "lenVar": 40
   },
   "kernels_config": {
    "python": {
     "delete_cmd_postfix": "",
     "delete_cmd_prefix": "del ",
     "library": "var_list.py",
     "varRefreshCmd": "print(var_dic_list())"
    },
    "r": {
     "delete_cmd_postfix": ") ",
     "delete_cmd_prefix": "rm(",
     "library": "var_list.r",
     "varRefreshCmd": "cat(var_dic_list()) "
    }
   },
   "types_to_exclude": [
    "module",
    "function",
    "builtin_function_or_method",
    "instance",
    "_Feature"
   ],
   "window_display": false
  }
 },
 "nbformat": 4,
 "nbformat_minor": 2
}
